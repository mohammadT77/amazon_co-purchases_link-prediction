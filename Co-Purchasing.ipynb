{
  "nbformat": 4,
  "nbformat_minor": 0,
  "metadata": {
    "colab": {
      "provenance": [],
      "gpuType": "T4"
    },
    "kernelspec": {
      "name": "python3",
      "display_name": "Python 3"
    },
    "language_info": {
      "name": "python"
    },
    "accelerator": "GPU"
  },
  "cells": [
    {
      "cell_type": "code",
      "execution_count": 1,
      "metadata": {
        "colab": {
          "base_uri": "https://localhost:8080/"
        },
        "id": "sUWGlSHee8cE",
        "outputId": "ea3188a5-deec-445d-e190-0cf9dc8b77d0"
      },
      "outputs": [
        {
          "output_type": "stream",
          "name": "stdout",
          "text": [
            "Requirement already satisfied: networkx in /usr/local/lib/python3.10/dist-packages (3.2.1)\n"
          ]
        }
      ],
      "source": [
        "!pip install --upgrade networkx\n",
        "\n",
        "import json\n",
        "import numpy as np\n",
        "import pandas as pd\n",
        "import networkx as nx\n",
        "import os\n",
        "from google.colab import drive\n",
        "\n"
      ]
    },
    {
      "cell_type": "code",
      "source": [
        "# Paths\n",
        "project_dir = \"Learning from Networks/\"\n",
        "meta_path = 'clean_meta_Software.json'\n",
        "ratings_path = 'ratings_Software.csv'"
      ],
      "metadata": {
        "id": "ECLy37HgR6Kj"
      },
      "execution_count": 2,
      "outputs": []
    },
    {
      "cell_type": "code",
      "source": [
        "# Mounting google drive and change dir\n",
        "drive.mount('/content/drive', force_remount=True)\n",
        "os.chdir(os.path.join(\"/content/drive/MyDrive/\",project_dir))\n",
        "!ls"
      ],
      "metadata": {
        "colab": {
          "base_uri": "https://localhost:8080/"
        },
        "id": "NfteXm4oLIXI",
        "outputId": "b3fe3390-00c1-43d4-a385-e6d2107c31f8"
      },
      "execution_count": 3,
      "outputs": [
        {
          "output_type": "stream",
          "name": "stdout",
          "text": [
            "Mounted at /content/drive\n",
            "clean_meta_Software.json  ratings_Software.csv\n"
          ]
        }
      ]
    },
    {
      "cell_type": "code",
      "source": [
        "try:\n",
        "    meta_df = pd.read_json(meta_path, lines=True)\n",
        "    meta_df = meta_df[[\"asin\", \"categories\", \"related\", \"price\", \"salesRank\"]]\n",
        "    meta_df['price'] = meta_df['price'].fillna(0)\n",
        "    # meta_df[\"related\"] = meta_df[\"related\"].fillna({'also_bought':[], 'also_viewed':[], 'bought_together':[]})\n",
        "\n",
        "    def fill_related(row):\n",
        "      row = {'also_bought': [], 'also_viewed': [], 'bought_together': []} if pd.isna(row) else row\n",
        "      row.setdefault('also_bought', [])\n",
        "      row.setdefault('also_viewed', [])\n",
        "      row.setdefault('bought_together', [])\n",
        "      # 'also_bought'] = [] if pd.isna(row['also_bought']) else row['also_bought']\n",
        "      # row['also_viewed'] = [] if pd.isna(row['also_viewed']) else row['also_viewed']\n",
        "      # row['bought_together'] = [] if pd.isna(row['bought_together']) else row['bought_together']\n",
        "\n",
        "      return row\n",
        "\n",
        "    def fix_categories(row):\n",
        "        return row[0]\n",
        "\n",
        "\n",
        "    meta_df[\"related\"] = meta_df[\"related\"].apply(fill_related)\n",
        "    meta_df[\"categories\"] = meta_df[\"categories\"].apply(fix_categories)\n",
        "\n",
        "\n",
        "    print(meta_df)\n",
        "except ValueError as e:\n",
        "    print(f\"Error reading JSON: {e}\")\n"
      ],
      "metadata": {
        "id": "pZ3VEQu1fEja",
        "colab": {
          "base_uri": "https://localhost:8080/"
        },
        "outputId": "623bc3b7-205a-49ae-ecc4-e7f2c4484e4f"
      },
      "execution_count": 15,
      "outputs": [
        {
          "output_type": "stream",
          "name": "stdout",
          "text": [
            "             asin                                         categories  \\\n",
            "0      0030429137  [Software, Business & Office, Visualization & ...   \n",
            "1      0077338030   [Software, Education & Reference, Encyclopedias]   \n",
            "2      0078798019                  [Software, Education & Reference]   \n",
            "3      0080964184                            [Software, Photography]   \n",
            "4      0131433172                                  [Movies & TV, TV]   \n",
            "...           ...                                                ...   \n",
            "18464  B00LEZEY4S                      [Software, Utilities, Backup]   \n",
            "18465  B00LK2K692  [Software, Programming & Web Development, Prog...   \n",
            "18466  B00LK2WEWY  [Software, Programming & Web Development, Prog...   \n",
            "18467  B00LK1W8O4  [Software, Accounting & Finance, Personal Fina...   \n",
            "18468  B00LNVBOG4   [Software, Education & Reference, Encyclopedias]   \n",
            "\n",
            "                                                 related  price  \\\n",
            "0      {'also_bought': ['0030429145'], 'also_viewed':...   0.00   \n",
            "1      {'also_bought': ['0078111048', '0471479519'], ...   0.00   \n",
            "2      {'also_bought': ['0078619718'], 'also_viewed':...   0.00   \n",
            "3      {'also_viewed': ['B002CIP12U', 'B00CH6ATMO', '...  99.00   \n",
            "4      {'also_bought': [], 'also_viewed': [], 'bought...   0.00   \n",
            "...                                                  ...    ...   \n",
            "18464  {'also_viewed': ['B00L4ED7Y2', 'B00HP034BA', '...  45.51   \n",
            "18465  {'also_bought': [], 'also_viewed': [], 'bought...   0.00   \n",
            "18466  {'also_bought': [], 'also_viewed': [], 'bought...   0.00   \n",
            "18467  {'also_bought': [], 'also_viewed': [], 'bought...   0.00   \n",
            "18468  {'also_bought': [], 'also_viewed': [], 'bought...   0.00   \n",
            "\n",
            "                     salesRank  \n",
            "0          {'Software': 19130}  \n",
            "1          {'Software': 14604}  \n",
            "2          {'Software': 18440}  \n",
            "3           {'Software': 3037}  \n",
            "4      {'Movies & TV': 630580}  \n",
            "...                        ...  \n",
            "18464       {'Software': 1198}  \n",
            "18465                      NaN  \n",
            "18466                      NaN  \n",
            "18467                      NaN  \n",
            "18468                      NaN  \n",
            "\n",
            "[18469 rows x 5 columns]\n"
          ]
        }
      ]
    },
    {
      "cell_type": "code",
      "source": [
        "# Prepare co-purchase relationships\n",
        "def prepare_relations():\n",
        "    relations_df = pd.DataFrame([], columns=[\"source\", \"target\"])\n",
        "\n",
        "    for index, row in meta_df.iterrows():\n",
        "        bought = set(row[\"related\"]['also_bought']+row[\"related\"]['bought_together'])\n",
        "\n",
        "        for target in bought:\n",
        "            relations_df = pd.concat([relations_df, pd.DataFrame([{\"source\": row[\"asin\"], \"target\": target}])], ignore_index=True)\n",
        "\n",
        "    return relations_df\n",
        "\n",
        "relations_df = prepare_relations()"
      ],
      "metadata": {
        "id": "MhtHWmkMSWsR"
      },
      "execution_count": 38,
      "outputs": []
    },
    {
      "cell_type": "code",
      "source": [
        "relations_df"
      ],
      "metadata": {
        "id": "ZXS52ZmXeJpy",
        "outputId": "ddd2a792-12bc-4849-8749-1f7174e30265",
        "colab": {
          "base_uri": "https://localhost:8080/",
          "height": 424
        }
      },
      "execution_count": 39,
      "outputs": [
        {
          "output_type": "execute_result",
          "data": {
            "text/plain": [
              "           source      target\n",
              "0      0030429137  0030429145\n",
              "1      0077338030  0078111048\n",
              "2      0077338030  0471479519\n",
              "3      0078798019  0078619718\n",
              "4      0321636864  0321624785\n",
              "...           ...         ...\n",
              "74190  B00KQV8RNK  B00CTTEKJW\n",
              "74191  B00KQV8RNK  B00KMECBVA\n",
              "74192  B00KQV8RNK  B00KQV8DJ8\n",
              "74193  B00KQV8RNK  B00JKKMTX2\n",
              "74194  B00KQV8RNK  B00H9F7JEY\n",
              "\n",
              "[74195 rows x 2 columns]"
            ],
            "text/html": [
              "\n",
              "  <div id=\"df-eb847c08-ae80-444a-b066-bc8242e69e67\" class=\"colab-df-container\">\n",
              "    <div>\n",
              "<style scoped>\n",
              "    .dataframe tbody tr th:only-of-type {\n",
              "        vertical-align: middle;\n",
              "    }\n",
              "\n",
              "    .dataframe tbody tr th {\n",
              "        vertical-align: top;\n",
              "    }\n",
              "\n",
              "    .dataframe thead th {\n",
              "        text-align: right;\n",
              "    }\n",
              "</style>\n",
              "<table border=\"1\" class=\"dataframe\">\n",
              "  <thead>\n",
              "    <tr style=\"text-align: right;\">\n",
              "      <th></th>\n",
              "      <th>source</th>\n",
              "      <th>target</th>\n",
              "    </tr>\n",
              "  </thead>\n",
              "  <tbody>\n",
              "    <tr>\n",
              "      <th>0</th>\n",
              "      <td>0030429137</td>\n",
              "      <td>0030429145</td>\n",
              "    </tr>\n",
              "    <tr>\n",
              "      <th>1</th>\n",
              "      <td>0077338030</td>\n",
              "      <td>0078111048</td>\n",
              "    </tr>\n",
              "    <tr>\n",
              "      <th>2</th>\n",
              "      <td>0077338030</td>\n",
              "      <td>0471479519</td>\n",
              "    </tr>\n",
              "    <tr>\n",
              "      <th>3</th>\n",
              "      <td>0078798019</td>\n",
              "      <td>0078619718</td>\n",
              "    </tr>\n",
              "    <tr>\n",
              "      <th>4</th>\n",
              "      <td>0321636864</td>\n",
              "      <td>0321624785</td>\n",
              "    </tr>\n",
              "    <tr>\n",
              "      <th>...</th>\n",
              "      <td>...</td>\n",
              "      <td>...</td>\n",
              "    </tr>\n",
              "    <tr>\n",
              "      <th>74190</th>\n",
              "      <td>B00KQV8RNK</td>\n",
              "      <td>B00CTTEKJW</td>\n",
              "    </tr>\n",
              "    <tr>\n",
              "      <th>74191</th>\n",
              "      <td>B00KQV8RNK</td>\n",
              "      <td>B00KMECBVA</td>\n",
              "    </tr>\n",
              "    <tr>\n",
              "      <th>74192</th>\n",
              "      <td>B00KQV8RNK</td>\n",
              "      <td>B00KQV8DJ8</td>\n",
              "    </tr>\n",
              "    <tr>\n",
              "      <th>74193</th>\n",
              "      <td>B00KQV8RNK</td>\n",
              "      <td>B00JKKMTX2</td>\n",
              "    </tr>\n",
              "    <tr>\n",
              "      <th>74194</th>\n",
              "      <td>B00KQV8RNK</td>\n",
              "      <td>B00H9F7JEY</td>\n",
              "    </tr>\n",
              "  </tbody>\n",
              "</table>\n",
              "<p>74195 rows × 2 columns</p>\n",
              "</div>\n",
              "    <div class=\"colab-df-buttons\">\n",
              "\n",
              "  <div class=\"colab-df-container\">\n",
              "    <button class=\"colab-df-convert\" onclick=\"convertToInteractive('df-eb847c08-ae80-444a-b066-bc8242e69e67')\"\n",
              "            title=\"Convert this dataframe to an interactive table.\"\n",
              "            style=\"display:none;\">\n",
              "\n",
              "  <svg xmlns=\"http://www.w3.org/2000/svg\" height=\"24px\" viewBox=\"0 -960 960 960\">\n",
              "    <path d=\"M120-120v-720h720v720H120Zm60-500h600v-160H180v160Zm220 220h160v-160H400v160Zm0 220h160v-160H400v160ZM180-400h160v-160H180v160Zm440 0h160v-160H620v160ZM180-180h160v-160H180v160Zm440 0h160v-160H620v160Z\"/>\n",
              "  </svg>\n",
              "    </button>\n",
              "\n",
              "  <style>\n",
              "    .colab-df-container {\n",
              "      display:flex;\n",
              "      gap: 12px;\n",
              "    }\n",
              "\n",
              "    .colab-df-convert {\n",
              "      background-color: #E8F0FE;\n",
              "      border: none;\n",
              "      border-radius: 50%;\n",
              "      cursor: pointer;\n",
              "      display: none;\n",
              "      fill: #1967D2;\n",
              "      height: 32px;\n",
              "      padding: 0 0 0 0;\n",
              "      width: 32px;\n",
              "    }\n",
              "\n",
              "    .colab-df-convert:hover {\n",
              "      background-color: #E2EBFA;\n",
              "      box-shadow: 0px 1px 2px rgba(60, 64, 67, 0.3), 0px 1px 3px 1px rgba(60, 64, 67, 0.15);\n",
              "      fill: #174EA6;\n",
              "    }\n",
              "\n",
              "    .colab-df-buttons div {\n",
              "      margin-bottom: 4px;\n",
              "    }\n",
              "\n",
              "    [theme=dark] .colab-df-convert {\n",
              "      background-color: #3B4455;\n",
              "      fill: #D2E3FC;\n",
              "    }\n",
              "\n",
              "    [theme=dark] .colab-df-convert:hover {\n",
              "      background-color: #434B5C;\n",
              "      box-shadow: 0px 1px 3px 1px rgba(0, 0, 0, 0.15);\n",
              "      filter: drop-shadow(0px 1px 2px rgba(0, 0, 0, 0.3));\n",
              "      fill: #FFFFFF;\n",
              "    }\n",
              "  </style>\n",
              "\n",
              "    <script>\n",
              "      const buttonEl =\n",
              "        document.querySelector('#df-eb847c08-ae80-444a-b066-bc8242e69e67 button.colab-df-convert');\n",
              "      buttonEl.style.display =\n",
              "        google.colab.kernel.accessAllowed ? 'block' : 'none';\n",
              "\n",
              "      async function convertToInteractive(key) {\n",
              "        const element = document.querySelector('#df-eb847c08-ae80-444a-b066-bc8242e69e67');\n",
              "        const dataTable =\n",
              "          await google.colab.kernel.invokeFunction('convertToInteractive',\n",
              "                                                    [key], {});\n",
              "        if (!dataTable) return;\n",
              "\n",
              "        const docLinkHtml = 'Like what you see? Visit the ' +\n",
              "          '<a target=\"_blank\" href=https://colab.research.google.com/notebooks/data_table.ipynb>data table notebook</a>'\n",
              "          + ' to learn more about interactive tables.';\n",
              "        element.innerHTML = '';\n",
              "        dataTable['output_type'] = 'display_data';\n",
              "        await google.colab.output.renderOutput(dataTable, element);\n",
              "        const docLink = document.createElement('div');\n",
              "        docLink.innerHTML = docLinkHtml;\n",
              "        element.appendChild(docLink);\n",
              "      }\n",
              "    </script>\n",
              "  </div>\n",
              "\n",
              "\n",
              "<div id=\"df-62f29010-0d15-40a4-9bad-c7a84d187cda\">\n",
              "  <button class=\"colab-df-quickchart\" onclick=\"quickchart('df-62f29010-0d15-40a4-9bad-c7a84d187cda')\"\n",
              "            title=\"Suggest charts\"\n",
              "            style=\"display:none;\">\n",
              "\n",
              "<svg xmlns=\"http://www.w3.org/2000/svg\" height=\"24px\"viewBox=\"0 0 24 24\"\n",
              "     width=\"24px\">\n",
              "    <g>\n",
              "        <path d=\"M19 3H5c-1.1 0-2 .9-2 2v14c0 1.1.9 2 2 2h14c1.1 0 2-.9 2-2V5c0-1.1-.9-2-2-2zM9 17H7v-7h2v7zm4 0h-2V7h2v10zm4 0h-2v-4h2v4z\"/>\n",
              "    </g>\n",
              "</svg>\n",
              "  </button>\n",
              "\n",
              "<style>\n",
              "  .colab-df-quickchart {\n",
              "      --bg-color: #E8F0FE;\n",
              "      --fill-color: #1967D2;\n",
              "      --hover-bg-color: #E2EBFA;\n",
              "      --hover-fill-color: #174EA6;\n",
              "      --disabled-fill-color: #AAA;\n",
              "      --disabled-bg-color: #DDD;\n",
              "  }\n",
              "\n",
              "  [theme=dark] .colab-df-quickchart {\n",
              "      --bg-color: #3B4455;\n",
              "      --fill-color: #D2E3FC;\n",
              "      --hover-bg-color: #434B5C;\n",
              "      --hover-fill-color: #FFFFFF;\n",
              "      --disabled-bg-color: #3B4455;\n",
              "      --disabled-fill-color: #666;\n",
              "  }\n",
              "\n",
              "  .colab-df-quickchart {\n",
              "    background-color: var(--bg-color);\n",
              "    border: none;\n",
              "    border-radius: 50%;\n",
              "    cursor: pointer;\n",
              "    display: none;\n",
              "    fill: var(--fill-color);\n",
              "    height: 32px;\n",
              "    padding: 0;\n",
              "    width: 32px;\n",
              "  }\n",
              "\n",
              "  .colab-df-quickchart:hover {\n",
              "    background-color: var(--hover-bg-color);\n",
              "    box-shadow: 0 1px 2px rgba(60, 64, 67, 0.3), 0 1px 3px 1px rgba(60, 64, 67, 0.15);\n",
              "    fill: var(--button-hover-fill-color);\n",
              "  }\n",
              "\n",
              "  .colab-df-quickchart-complete:disabled,\n",
              "  .colab-df-quickchart-complete:disabled:hover {\n",
              "    background-color: var(--disabled-bg-color);\n",
              "    fill: var(--disabled-fill-color);\n",
              "    box-shadow: none;\n",
              "  }\n",
              "\n",
              "  .colab-df-spinner {\n",
              "    border: 2px solid var(--fill-color);\n",
              "    border-color: transparent;\n",
              "    border-bottom-color: var(--fill-color);\n",
              "    animation:\n",
              "      spin 1s steps(1) infinite;\n",
              "  }\n",
              "\n",
              "  @keyframes spin {\n",
              "    0% {\n",
              "      border-color: transparent;\n",
              "      border-bottom-color: var(--fill-color);\n",
              "      border-left-color: var(--fill-color);\n",
              "    }\n",
              "    20% {\n",
              "      border-color: transparent;\n",
              "      border-left-color: var(--fill-color);\n",
              "      border-top-color: var(--fill-color);\n",
              "    }\n",
              "    30% {\n",
              "      border-color: transparent;\n",
              "      border-left-color: var(--fill-color);\n",
              "      border-top-color: var(--fill-color);\n",
              "      border-right-color: var(--fill-color);\n",
              "    }\n",
              "    40% {\n",
              "      border-color: transparent;\n",
              "      border-right-color: var(--fill-color);\n",
              "      border-top-color: var(--fill-color);\n",
              "    }\n",
              "    60% {\n",
              "      border-color: transparent;\n",
              "      border-right-color: var(--fill-color);\n",
              "    }\n",
              "    80% {\n",
              "      border-color: transparent;\n",
              "      border-right-color: var(--fill-color);\n",
              "      border-bottom-color: var(--fill-color);\n",
              "    }\n",
              "    90% {\n",
              "      border-color: transparent;\n",
              "      border-bottom-color: var(--fill-color);\n",
              "    }\n",
              "  }\n",
              "</style>\n",
              "\n",
              "  <script>\n",
              "    async function quickchart(key) {\n",
              "      const quickchartButtonEl =\n",
              "        document.querySelector('#' + key + ' button');\n",
              "      quickchartButtonEl.disabled = true;  // To prevent multiple clicks.\n",
              "      quickchartButtonEl.classList.add('colab-df-spinner');\n",
              "      try {\n",
              "        const charts = await google.colab.kernel.invokeFunction(\n",
              "            'suggestCharts', [key], {});\n",
              "      } catch (error) {\n",
              "        console.error('Error during call to suggestCharts:', error);\n",
              "      }\n",
              "      quickchartButtonEl.classList.remove('colab-df-spinner');\n",
              "      quickchartButtonEl.classList.add('colab-df-quickchart-complete');\n",
              "    }\n",
              "    (() => {\n",
              "      let quickchartButtonEl =\n",
              "        document.querySelector('#df-62f29010-0d15-40a4-9bad-c7a84d187cda button');\n",
              "      quickchartButtonEl.style.display =\n",
              "        google.colab.kernel.accessAllowed ? 'block' : 'none';\n",
              "    })();\n",
              "  </script>\n",
              "</div>\n",
              "    </div>\n",
              "  </div>\n"
            ]
          },
          "metadata": {},
          "execution_count": 39
        }
      ]
    },
    {
      "cell_type": "code",
      "source": [
        "# section associated to the rating fields: number_of_ratings, avg_rating\n",
        "def aggregate(group):\n",
        "    return pd.Series({\n",
        "        \"number_of_ratings\": len(group['Rate'].tolist()),\n",
        "        \"avg_rating\": np.average(group['Rate'])\n",
        "    })\n",
        "\n",
        "\n",
        "rating_df = pd.read_csv(rating_path, names=[\"User\", \"asin\", \"Rate\", \"Time\"])\n",
        "\n",
        "rating_df = rating_df.groupby(\"asin\").apply(aggregate).reset_index()\n",
        "\n",
        "print(rating_df)\n"
      ],
      "metadata": {
        "colab": {
          "base_uri": "https://localhost:8080/",
          "height": 255
        },
        "id": "bSw1v6-DExpy",
        "outputId": "3cd03683-69ad-4c82-bff3-dfd9df66f351"
      },
      "execution_count": 5,
      "outputs": [
        {
          "output_type": "error",
          "ename": "NameError",
          "evalue": "name 'rating_path' is not defined",
          "traceback": [
            "\u001b[0;31m---------------------------------------------------------------------------\u001b[0m",
            "\u001b[0;31mNameError\u001b[0m                                 Traceback (most recent call last)",
            "\u001b[0;32m<ipython-input-5-998100a6556c>\u001b[0m in \u001b[0;36m<cell line: 9>\u001b[0;34m()\u001b[0m\n\u001b[1;32m      7\u001b[0m \u001b[0;34m\u001b[0m\u001b[0m\n\u001b[1;32m      8\u001b[0m \u001b[0;34m\u001b[0m\u001b[0m\n\u001b[0;32m----> 9\u001b[0;31m \u001b[0mrating_df\u001b[0m \u001b[0;34m=\u001b[0m \u001b[0mpd\u001b[0m\u001b[0;34m.\u001b[0m\u001b[0mread_csv\u001b[0m\u001b[0;34m(\u001b[0m\u001b[0mrating_path\u001b[0m\u001b[0;34m,\u001b[0m \u001b[0mnames\u001b[0m\u001b[0;34m=\u001b[0m\u001b[0;34m[\u001b[0m\u001b[0;34m\"User\"\u001b[0m\u001b[0;34m,\u001b[0m \u001b[0;34m\"asin\"\u001b[0m\u001b[0;34m,\u001b[0m \u001b[0;34m\"Rate\"\u001b[0m\u001b[0;34m,\u001b[0m \u001b[0;34m\"Time\"\u001b[0m\u001b[0;34m]\u001b[0m\u001b[0;34m)\u001b[0m\u001b[0;34m\u001b[0m\u001b[0;34m\u001b[0m\u001b[0m\n\u001b[0m\u001b[1;32m     10\u001b[0m \u001b[0;34m\u001b[0m\u001b[0m\n\u001b[1;32m     11\u001b[0m \u001b[0mrating_df\u001b[0m \u001b[0;34m=\u001b[0m \u001b[0mrating_df\u001b[0m\u001b[0;34m.\u001b[0m\u001b[0mgroupby\u001b[0m\u001b[0;34m(\u001b[0m\u001b[0;34m\"asin\"\u001b[0m\u001b[0;34m)\u001b[0m\u001b[0;34m.\u001b[0m\u001b[0mapply\u001b[0m\u001b[0;34m(\u001b[0m\u001b[0maggregate\u001b[0m\u001b[0;34m)\u001b[0m\u001b[0;34m.\u001b[0m\u001b[0mreset_index\u001b[0m\u001b[0;34m(\u001b[0m\u001b[0;34m)\u001b[0m\u001b[0;34m\u001b[0m\u001b[0;34m\u001b[0m\u001b[0m\n",
            "\u001b[0;31mNameError\u001b[0m: name 'rating_path' is not defined"
          ]
        }
      ]
    },
    {
      "cell_type": "code",
      "source": [
        "df = pd.merge(meta_df, rating_df, how='inner', on='asin')\n",
        "\n",
        "df = df.dropna(axis=1)\n",
        "\n",
        "\n",
        "# one hot encoding on the category field\n",
        "categories_one_hot = pd.get_dummies(df['categories'].apply(pd.Series).stack()).sum(level=0)\n",
        "df = pd.concat([df, categories_one_hot], axis=1)\n",
        "\n",
        "df = df.drop('categories', axis=1)\n",
        "df = df.drop('Apps for Android', axis=1)\n",
        "\n",
        "df['number_of_ratings'] = df['number_of_ratings'].fillna(0)\n",
        "df['avg_rating'] = df['avg_rating'].fillna(0)\n",
        "\n",
        "# Print the resulting DataFrame\n",
        "print(df)"
      ],
      "metadata": {
        "id": "BMFafdQkUY_X"
      },
      "execution_count": null,
      "outputs": []
    },
    {
      "cell_type": "code",
      "source": [
        "G = nx.Graph()\n",
        "\n",
        "G.add_nodes_from(df['asin'])"
      ],
      "metadata": {
        "id": "_crNNHgkm8Ca"
      },
      "execution_count": null,
      "outputs": []
    },
    {
      "cell_type": "code",
      "source": [
        "for i in range(df.shape[0]):\n",
        "    value = df.iloc[i]\n",
        "    also_bought = set(value[\"related\"].get(\"also_bought\", []))\n",
        "    bought_together = set(value[\"related\"].get(\"bought_together\", []))\n",
        "\n",
        "    valid_also_bought = also_bought.intersection(df['asin'].values)\n",
        "    valid_bought_together = bought_together.intersection(df['asin'].values)\n",
        "\n",
        "    G.add_edges_from((value['asin'], j) for j in valid_also_bought)\n",
        "    G.add_edges_from((value['asin'], j) for j in valid_bought_together)\n",
        "\n"
      ],
      "metadata": {
        "id": "o75RJGtRndu1"
      },
      "execution_count": null,
      "outputs": []
    },
    {
      "cell_type": "code",
      "source": [
        "# nx.write_g\n",
        "\n",
        "nx.write_gml(G, 'graph.gz')"
      ],
      "metadata": {
        "id": "_8EwzAeVH9Ki"
      },
      "execution_count": null,
      "outputs": []
    },
    {
      "cell_type": "code",
      "source": [
        "G = nx.read_gml(\"graph.gz\")"
      ],
      "metadata": {
        "id": "M_btgpvCLHop"
      },
      "execution_count": null,
      "outputs": []
    },
    {
      "cell_type": "code",
      "source": [
        "print(\"The edge size of graph G: \",len(G.edges))\n",
        "print(\"The node size of graph G: \",len(G.nodes))"
      ],
      "metadata": {
        "id": "Ar8-5hmq8Gp2"
      },
      "execution_count": null,
      "outputs": []
    },
    {
      "cell_type": "code",
      "source": [
        "# nodes_to_remove = [node for node, degree in dict(G_purchase.degree()).items() if degree == 0]\n",
        "# G_purchase.remove_nodes_from(nodes_to_remove)\n"
      ],
      "metadata": {
        "id": "Iv2QZEFMXUJL"
      },
      "execution_count": null,
      "outputs": []
    },
    {
      "cell_type": "code",
      "source": [
        "# import matplotlib.pyplot as plt\n",
        "\n",
        "# nx.draw(G_purchase, with_labels=False, )\n"
      ],
      "metadata": {
        "id": "zEcuPON9Egxf"
      },
      "execution_count": null,
      "outputs": []
    }
  ]
}