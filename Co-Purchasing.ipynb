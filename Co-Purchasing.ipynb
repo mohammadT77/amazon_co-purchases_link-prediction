{
  "nbformat": 4,
  "nbformat_minor": 0,
  "metadata": {
    "colab": {
      "provenance": [],
      "gpuType": "T4"
    },
    "kernelspec": {
      "name": "python3",
      "display_name": "Python 3"
    },
    "language_info": {
      "name": "python"
    },
    "accelerator": "GPU"
  },
  "cells": [
    {
      "cell_type": "code",
      "execution_count": 13,
      "metadata": {
        "colab": {
          "base_uri": "https://localhost:8080/"
        },
        "id": "sUWGlSHee8cE",
        "outputId": "fb68e539-6849-4f01-d49b-e52fd054decb"
      },
      "outputs": [
        {
          "output_type": "stream",
          "name": "stdout",
          "text": [
            "Requirement already satisfied: networkx in /usr/local/lib/python3.10/dist-packages (3.2.1)\n"
          ]
        }
      ],
      "source": [
        "!pip install --upgrade networkx\n",
        "\n",
        "import json\n",
        "import numpy as np\n",
        "import pandas as pd\n",
        "import networkx as nx\n",
        "import os\n",
        "from google.colab import drive\n",
        "\n"
      ]
    },
    {
      "cell_type": "code",
      "source": [
        "# Paths\n",
        "project_dir = \"Learning from Networks/\"\n",
        "meta_path = 'clean_meta_Software.json'\n",
        "ratings_path = 'ratings_Software.csv'"
      ],
      "metadata": {
        "id": "ECLy37HgR6Kj"
      },
      "execution_count": 19,
      "outputs": []
    },
    {
      "cell_type": "code",
      "source": [
        "# Mounting google drive and change dir\n",
        "drive.mount('/content/drive', force_remount=True)\n",
        "os.chdir(os.path.join(\"/content/drive/MyDrive/\",project_dir))\n",
        "!ls"
      ],
      "metadata": {
        "colab": {
          "base_uri": "https://localhost:8080/"
        },
        "id": "NfteXm4oLIXI",
        "outputId": "19e6ddd7-0bb4-4adf-be8b-a97a47f77977"
      },
      "execution_count": 20,
      "outputs": [
        {
          "output_type": "stream",
          "name": "stdout",
          "text": [
            "Mounted at /content/drive\n",
            "clean_meta_Software.json  ratings_Software.csv\n"
          ]
        }
      ]
    },
    {
      "cell_type": "code",
      "source": [
        "try:\n",
        "    meta_df = pd.read_json(meta_path, lines=True)\n",
        "    meta_df = meta_df[[\"asin\", \"categories\", \"related\", \"price\", \"salesRank\"]]\n",
        "    meta_df['price'] = meta_df['price'].fillna(0)\n",
        "    # meta_df[\"related\"] = meta_df[\"related\"].fillna({'also_bought':[], 'also_viewed':[], 'bought_together':[]})\n",
        "\n",
        "    def fill_related(row):\n",
        "        return {'also_bought': [], 'also_viewed': [], 'bought_together': []} if pd.isna(row) else row\n",
        "\n",
        "    def fix_categories(row):\n",
        "        return row[0]\n",
        "\n",
        "\n",
        "    meta_df[\"related\"] = meta_df[\"related\"].apply(fill_related)\n",
        "    meta_df[\"categories\"] = meta_df[\"categories\"].apply(fix_categories)\n",
        "\n",
        "\n",
        "    print(meta_df)\n",
        "except ValueError as e:\n",
        "    print(f\"Error reading JSON: {e}\")\n"
      ],
      "metadata": {
        "id": "pZ3VEQu1fEja",
        "colab": {
          "base_uri": "https://localhost:8080/"
        },
        "outputId": "a0cdab39-27a5-463f-b95e-369c1fb9b94b"
      },
      "execution_count": 21,
      "outputs": [
        {
          "output_type": "stream",
          "name": "stdout",
          "text": [
            "             asin                                         categories  \\\n",
            "0      0030429137  [Software, Business & Office, Visualization & ...   \n",
            "1      0077338030   [Software, Education & Reference, Encyclopedias]   \n",
            "2      0078798019                  [Software, Education & Reference]   \n",
            "3      0080964184                            [Software, Photography]   \n",
            "4      0131433172                                  [Movies & TV, TV]   \n",
            "...           ...                                                ...   \n",
            "18464  B00LEZEY4S                      [Software, Utilities, Backup]   \n",
            "18465  B00LK2K692  [Software, Programming & Web Development, Prog...   \n",
            "18466  B00LK2WEWY  [Software, Programming & Web Development, Prog...   \n",
            "18467  B00LK1W8O4  [Software, Accounting & Finance, Personal Fina...   \n",
            "18468  B00LNVBOG4   [Software, Education & Reference, Encyclopedias]   \n",
            "\n",
            "                                                 related  price  \\\n",
            "0                        {'also_bought': ['0030429145']}   0.00   \n",
            "1          {'also_bought': ['0078111048', '0471479519']}   0.00   \n",
            "2                        {'also_bought': ['0078619718']}   0.00   \n",
            "3      {'also_viewed': ['B002CIP12U', 'B00CH6ATMO', '...  99.00   \n",
            "4      {'also_bought': [], 'also_viewed': [], 'bought...   0.00   \n",
            "...                                                  ...    ...   \n",
            "18464  {'also_viewed': ['B00L4ED7Y2', 'B00HP034BA', '...  45.51   \n",
            "18465  {'also_bought': [], 'also_viewed': [], 'bought...   0.00   \n",
            "18466  {'also_bought': [], 'also_viewed': [], 'bought...   0.00   \n",
            "18467  {'also_bought': [], 'also_viewed': [], 'bought...   0.00   \n",
            "18468  {'also_bought': [], 'also_viewed': [], 'bought...   0.00   \n",
            "\n",
            "                     salesRank  \n",
            "0          {'Software': 19130}  \n",
            "1          {'Software': 14604}  \n",
            "2          {'Software': 18440}  \n",
            "3           {'Software': 3037}  \n",
            "4      {'Movies & TV': 630580}  \n",
            "...                        ...  \n",
            "18464       {'Software': 1198}  \n",
            "18465                      NaN  \n",
            "18466                      NaN  \n",
            "18467                      NaN  \n",
            "18468                      NaN  \n",
            "\n",
            "[18469 rows x 5 columns]\n"
          ]
        }
      ]
    },
    {
      "cell_type": "code",
      "source": [],
      "metadata": {
        "id": "MhtHWmkMSWsR"
      },
      "execution_count": null,
      "outputs": []
    },
    {
      "cell_type": "code",
      "source": [
        "# section associated to the rating fields: number_of_ratings, avg_rating\n",
        "def aggregate(group):\n",
        "    return pd.Series({\n",
        "        \"number_of_ratings\": len(group['Rate'].tolist()),\n",
        "        \"avg_rating\": np.average(group['Rate'])\n",
        "    })\n",
        "\n",
        "\n",
        "rating_df = pd.read_csv(rating_path, names=[\"User\", \"asin\", \"Rate\", \"Time\"])\n",
        "\n",
        "rating_df = rating_df.groupby(\"asin\").apply(aggregate).reset_index()\n",
        "\n",
        "print(rating_df)\n"
      ],
      "metadata": {
        "colab": {
          "base_uri": "https://localhost:8080/",
          "height": 425
        },
        "id": "bSw1v6-DExpy",
        "outputId": "43d4400a-101b-45f4-ac23-56860bb2d5bc"
      },
      "execution_count": 16,
      "outputs": [
        {
          "output_type": "error",
          "ename": "FileNotFoundError",
          "evalue": "[Errno 2] No such file or directory: './ratings_Apps_for_Android.csv'",
          "traceback": [
            "\u001b[0;31m---------------------------------------------------------------------------\u001b[0m",
            "\u001b[0;31mFileNotFoundError\u001b[0m                         Traceback (most recent call last)",
            "\u001b[0;32m<ipython-input-16-6db8e0898888>\u001b[0m in \u001b[0;36m<cell line: 11>\u001b[0;34m()\u001b[0m\n\u001b[1;32m      9\u001b[0m \u001b[0mrating_path\u001b[0m \u001b[0;34m=\u001b[0m \u001b[0;34m'./ratings_Apps_for_Android.csv'\u001b[0m\u001b[0;34m\u001b[0m\u001b[0;34m\u001b[0m\u001b[0m\n\u001b[1;32m     10\u001b[0m \u001b[0;34m\u001b[0m\u001b[0m\n\u001b[0;32m---> 11\u001b[0;31m \u001b[0mrating_df\u001b[0m \u001b[0;34m=\u001b[0m \u001b[0mpd\u001b[0m\u001b[0;34m.\u001b[0m\u001b[0mread_csv\u001b[0m\u001b[0;34m(\u001b[0m\u001b[0mrating_path\u001b[0m\u001b[0;34m,\u001b[0m \u001b[0mnames\u001b[0m\u001b[0;34m=\u001b[0m\u001b[0;34m[\u001b[0m\u001b[0;34m\"User\"\u001b[0m\u001b[0;34m,\u001b[0m \u001b[0;34m\"asin\"\u001b[0m\u001b[0;34m,\u001b[0m \u001b[0;34m\"Rate\"\u001b[0m\u001b[0;34m,\u001b[0m \u001b[0;34m\"Time\"\u001b[0m\u001b[0;34m]\u001b[0m\u001b[0;34m)\u001b[0m\u001b[0;34m\u001b[0m\u001b[0;34m\u001b[0m\u001b[0m\n\u001b[0m\u001b[1;32m     12\u001b[0m \u001b[0;34m\u001b[0m\u001b[0m\n\u001b[1;32m     13\u001b[0m \u001b[0mrating_df\u001b[0m \u001b[0;34m=\u001b[0m \u001b[0mrating_df\u001b[0m\u001b[0;34m.\u001b[0m\u001b[0mgroupby\u001b[0m\u001b[0;34m(\u001b[0m\u001b[0;34m\"asin\"\u001b[0m\u001b[0;34m)\u001b[0m\u001b[0;34m.\u001b[0m\u001b[0mapply\u001b[0m\u001b[0;34m(\u001b[0m\u001b[0maggregate\u001b[0m\u001b[0;34m)\u001b[0m\u001b[0;34m.\u001b[0m\u001b[0mreset_index\u001b[0m\u001b[0;34m(\u001b[0m\u001b[0;34m)\u001b[0m\u001b[0;34m\u001b[0m\u001b[0;34m\u001b[0m\u001b[0m\n",
            "\u001b[0;32m/usr/local/lib/python3.10/dist-packages/pandas/util/_decorators.py\u001b[0m in \u001b[0;36mwrapper\u001b[0;34m(*args, **kwargs)\u001b[0m\n\u001b[1;32m    209\u001b[0m                 \u001b[0;32melse\u001b[0m\u001b[0;34m:\u001b[0m\u001b[0;34m\u001b[0m\u001b[0;34m\u001b[0m\u001b[0m\n\u001b[1;32m    210\u001b[0m                     \u001b[0mkwargs\u001b[0m\u001b[0;34m[\u001b[0m\u001b[0mnew_arg_name\u001b[0m\u001b[0;34m]\u001b[0m \u001b[0;34m=\u001b[0m \u001b[0mnew_arg_value\u001b[0m\u001b[0;34m\u001b[0m\u001b[0;34m\u001b[0m\u001b[0m\n\u001b[0;32m--> 211\u001b[0;31m             \u001b[0;32mreturn\u001b[0m \u001b[0mfunc\u001b[0m\u001b[0;34m(\u001b[0m\u001b[0;34m*\u001b[0m\u001b[0margs\u001b[0m\u001b[0;34m,\u001b[0m \u001b[0;34m**\u001b[0m\u001b[0mkwargs\u001b[0m\u001b[0;34m)\u001b[0m\u001b[0;34m\u001b[0m\u001b[0;34m\u001b[0m\u001b[0m\n\u001b[0m\u001b[1;32m    212\u001b[0m \u001b[0;34m\u001b[0m\u001b[0m\n\u001b[1;32m    213\u001b[0m         \u001b[0;32mreturn\u001b[0m \u001b[0mcast\u001b[0m\u001b[0;34m(\u001b[0m\u001b[0mF\u001b[0m\u001b[0;34m,\u001b[0m \u001b[0mwrapper\u001b[0m\u001b[0;34m)\u001b[0m\u001b[0;34m\u001b[0m\u001b[0;34m\u001b[0m\u001b[0m\n",
            "\u001b[0;32m/usr/local/lib/python3.10/dist-packages/pandas/util/_decorators.py\u001b[0m in \u001b[0;36mwrapper\u001b[0;34m(*args, **kwargs)\u001b[0m\n\u001b[1;32m    329\u001b[0m                     \u001b[0mstacklevel\u001b[0m\u001b[0;34m=\u001b[0m\u001b[0mfind_stack_level\u001b[0m\u001b[0;34m(\u001b[0m\u001b[0;34m)\u001b[0m\u001b[0;34m,\u001b[0m\u001b[0;34m\u001b[0m\u001b[0;34m\u001b[0m\u001b[0m\n\u001b[1;32m    330\u001b[0m                 )\n\u001b[0;32m--> 331\u001b[0;31m             \u001b[0;32mreturn\u001b[0m \u001b[0mfunc\u001b[0m\u001b[0;34m(\u001b[0m\u001b[0;34m*\u001b[0m\u001b[0margs\u001b[0m\u001b[0;34m,\u001b[0m \u001b[0;34m**\u001b[0m\u001b[0mkwargs\u001b[0m\u001b[0;34m)\u001b[0m\u001b[0;34m\u001b[0m\u001b[0;34m\u001b[0m\u001b[0m\n\u001b[0m\u001b[1;32m    332\u001b[0m \u001b[0;34m\u001b[0m\u001b[0m\n\u001b[1;32m    333\u001b[0m         \u001b[0;31m# error: \"Callable[[VarArg(Any), KwArg(Any)], Any]\" has no\u001b[0m\u001b[0;34m\u001b[0m\u001b[0;34m\u001b[0m\u001b[0m\n",
            "\u001b[0;32m/usr/local/lib/python3.10/dist-packages/pandas/io/parsers/readers.py\u001b[0m in \u001b[0;36mread_csv\u001b[0;34m(filepath_or_buffer, sep, delimiter, header, names, index_col, usecols, squeeze, prefix, mangle_dupe_cols, dtype, engine, converters, true_values, false_values, skipinitialspace, skiprows, skipfooter, nrows, na_values, keep_default_na, na_filter, verbose, skip_blank_lines, parse_dates, infer_datetime_format, keep_date_col, date_parser, dayfirst, cache_dates, iterator, chunksize, compression, thousands, decimal, lineterminator, quotechar, quoting, doublequote, escapechar, comment, encoding, encoding_errors, dialect, error_bad_lines, warn_bad_lines, on_bad_lines, delim_whitespace, low_memory, memory_map, float_precision, storage_options)\u001b[0m\n\u001b[1;32m    948\u001b[0m     \u001b[0mkwds\u001b[0m\u001b[0;34m.\u001b[0m\u001b[0mupdate\u001b[0m\u001b[0;34m(\u001b[0m\u001b[0mkwds_defaults\u001b[0m\u001b[0;34m)\u001b[0m\u001b[0;34m\u001b[0m\u001b[0;34m\u001b[0m\u001b[0m\n\u001b[1;32m    949\u001b[0m \u001b[0;34m\u001b[0m\u001b[0m\n\u001b[0;32m--> 950\u001b[0;31m     \u001b[0;32mreturn\u001b[0m \u001b[0m_read\u001b[0m\u001b[0;34m(\u001b[0m\u001b[0mfilepath_or_buffer\u001b[0m\u001b[0;34m,\u001b[0m \u001b[0mkwds\u001b[0m\u001b[0;34m)\u001b[0m\u001b[0;34m\u001b[0m\u001b[0;34m\u001b[0m\u001b[0m\n\u001b[0m\u001b[1;32m    951\u001b[0m \u001b[0;34m\u001b[0m\u001b[0m\n\u001b[1;32m    952\u001b[0m \u001b[0;34m\u001b[0m\u001b[0m\n",
            "\u001b[0;32m/usr/local/lib/python3.10/dist-packages/pandas/io/parsers/readers.py\u001b[0m in \u001b[0;36m_read\u001b[0;34m(filepath_or_buffer, kwds)\u001b[0m\n\u001b[1;32m    603\u001b[0m \u001b[0;34m\u001b[0m\u001b[0m\n\u001b[1;32m    604\u001b[0m     \u001b[0;31m# Create the parser.\u001b[0m\u001b[0;34m\u001b[0m\u001b[0;34m\u001b[0m\u001b[0m\n\u001b[0;32m--> 605\u001b[0;31m     \u001b[0mparser\u001b[0m \u001b[0;34m=\u001b[0m \u001b[0mTextFileReader\u001b[0m\u001b[0;34m(\u001b[0m\u001b[0mfilepath_or_buffer\u001b[0m\u001b[0;34m,\u001b[0m \u001b[0;34m**\u001b[0m\u001b[0mkwds\u001b[0m\u001b[0;34m)\u001b[0m\u001b[0;34m\u001b[0m\u001b[0;34m\u001b[0m\u001b[0m\n\u001b[0m\u001b[1;32m    606\u001b[0m \u001b[0;34m\u001b[0m\u001b[0m\n\u001b[1;32m    607\u001b[0m     \u001b[0;32mif\u001b[0m \u001b[0mchunksize\u001b[0m \u001b[0;32mor\u001b[0m \u001b[0miterator\u001b[0m\u001b[0;34m:\u001b[0m\u001b[0;34m\u001b[0m\u001b[0;34m\u001b[0m\u001b[0m\n",
            "\u001b[0;32m/usr/local/lib/python3.10/dist-packages/pandas/io/parsers/readers.py\u001b[0m in \u001b[0;36m__init__\u001b[0;34m(self, f, engine, **kwds)\u001b[0m\n\u001b[1;32m   1440\u001b[0m \u001b[0;34m\u001b[0m\u001b[0m\n\u001b[1;32m   1441\u001b[0m         \u001b[0mself\u001b[0m\u001b[0;34m.\u001b[0m\u001b[0mhandles\u001b[0m\u001b[0;34m:\u001b[0m \u001b[0mIOHandles\u001b[0m \u001b[0;34m|\u001b[0m \u001b[0;32mNone\u001b[0m \u001b[0;34m=\u001b[0m \u001b[0;32mNone\u001b[0m\u001b[0;34m\u001b[0m\u001b[0;34m\u001b[0m\u001b[0m\n\u001b[0;32m-> 1442\u001b[0;31m         \u001b[0mself\u001b[0m\u001b[0;34m.\u001b[0m\u001b[0m_engine\u001b[0m \u001b[0;34m=\u001b[0m \u001b[0mself\u001b[0m\u001b[0;34m.\u001b[0m\u001b[0m_make_engine\u001b[0m\u001b[0;34m(\u001b[0m\u001b[0mf\u001b[0m\u001b[0;34m,\u001b[0m \u001b[0mself\u001b[0m\u001b[0;34m.\u001b[0m\u001b[0mengine\u001b[0m\u001b[0;34m)\u001b[0m\u001b[0;34m\u001b[0m\u001b[0;34m\u001b[0m\u001b[0m\n\u001b[0m\u001b[1;32m   1443\u001b[0m \u001b[0;34m\u001b[0m\u001b[0m\n\u001b[1;32m   1444\u001b[0m     \u001b[0;32mdef\u001b[0m \u001b[0mclose\u001b[0m\u001b[0;34m(\u001b[0m\u001b[0mself\u001b[0m\u001b[0;34m)\u001b[0m \u001b[0;34m->\u001b[0m \u001b[0;32mNone\u001b[0m\u001b[0;34m:\u001b[0m\u001b[0;34m\u001b[0m\u001b[0;34m\u001b[0m\u001b[0m\n",
            "\u001b[0;32m/usr/local/lib/python3.10/dist-packages/pandas/io/parsers/readers.py\u001b[0m in \u001b[0;36m_make_engine\u001b[0;34m(self, f, engine)\u001b[0m\n\u001b[1;32m   1733\u001b[0m                 \u001b[0;32mif\u001b[0m \u001b[0;34m\"b\"\u001b[0m \u001b[0;32mnot\u001b[0m \u001b[0;32min\u001b[0m \u001b[0mmode\u001b[0m\u001b[0;34m:\u001b[0m\u001b[0;34m\u001b[0m\u001b[0;34m\u001b[0m\u001b[0m\n\u001b[1;32m   1734\u001b[0m                     \u001b[0mmode\u001b[0m \u001b[0;34m+=\u001b[0m \u001b[0;34m\"b\"\u001b[0m\u001b[0;34m\u001b[0m\u001b[0;34m\u001b[0m\u001b[0m\n\u001b[0;32m-> 1735\u001b[0;31m             self.handles = get_handle(\n\u001b[0m\u001b[1;32m   1736\u001b[0m                 \u001b[0mf\u001b[0m\u001b[0;34m,\u001b[0m\u001b[0;34m\u001b[0m\u001b[0;34m\u001b[0m\u001b[0m\n\u001b[1;32m   1737\u001b[0m                 \u001b[0mmode\u001b[0m\u001b[0;34m,\u001b[0m\u001b[0;34m\u001b[0m\u001b[0;34m\u001b[0m\u001b[0m\n",
            "\u001b[0;32m/usr/local/lib/python3.10/dist-packages/pandas/io/common.py\u001b[0m in \u001b[0;36mget_handle\u001b[0;34m(path_or_buf, mode, encoding, compression, memory_map, is_text, errors, storage_options)\u001b[0m\n\u001b[1;32m    854\u001b[0m         \u001b[0;32mif\u001b[0m \u001b[0mioargs\u001b[0m\u001b[0;34m.\u001b[0m\u001b[0mencoding\u001b[0m \u001b[0;32mand\u001b[0m \u001b[0;34m\"b\"\u001b[0m \u001b[0;32mnot\u001b[0m \u001b[0;32min\u001b[0m \u001b[0mioargs\u001b[0m\u001b[0;34m.\u001b[0m\u001b[0mmode\u001b[0m\u001b[0;34m:\u001b[0m\u001b[0;34m\u001b[0m\u001b[0;34m\u001b[0m\u001b[0m\n\u001b[1;32m    855\u001b[0m             \u001b[0;31m# Encoding\u001b[0m\u001b[0;34m\u001b[0m\u001b[0;34m\u001b[0m\u001b[0m\n\u001b[0;32m--> 856\u001b[0;31m             handle = open(\n\u001b[0m\u001b[1;32m    857\u001b[0m                 \u001b[0mhandle\u001b[0m\u001b[0;34m,\u001b[0m\u001b[0;34m\u001b[0m\u001b[0;34m\u001b[0m\u001b[0m\n\u001b[1;32m    858\u001b[0m                 \u001b[0mioargs\u001b[0m\u001b[0;34m.\u001b[0m\u001b[0mmode\u001b[0m\u001b[0;34m,\u001b[0m\u001b[0;34m\u001b[0m\u001b[0;34m\u001b[0m\u001b[0m\n",
            "\u001b[0;31mFileNotFoundError\u001b[0m: [Errno 2] No such file or directory: './ratings_Apps_for_Android.csv'"
          ]
        }
      ]
    },
    {
      "cell_type": "code",
      "source": [
        "df = pd.merge(meta_df, rating_df, how='inner', on='asin')\n",
        "\n",
        "df = df.dropna(axis=1)\n",
        "\n",
        "\n",
        "# one hot encoding on the category field\n",
        "categories_one_hot = pd.get_dummies(df['categories'].apply(pd.Series).stack()).sum(level=0)\n",
        "df = pd.concat([df, categories_one_hot], axis=1)\n",
        "\n",
        "df = df.drop('categories', axis=1)\n",
        "df = df.drop('Apps for Android', axis=1)\n",
        "\n",
        "df['number_of_ratings'] = df['number_of_ratings'].fillna(0)\n",
        "df['avg_rating'] = df['avg_rating'].fillna(0)\n",
        "\n",
        "# Print the resulting DataFrame\n",
        "print(df)"
      ],
      "metadata": {
        "colab": {
          "base_uri": "https://localhost:8080/"
        },
        "id": "BMFafdQkUY_X",
        "outputId": "199da706-8dff-489e-dca9-ea21f2abfa98"
      },
      "execution_count": null,
      "outputs": [
        {
          "output_type": "stream",
          "name": "stderr",
          "text": [
            "<ipython-input-13-d4286af7ee62>:7: FutureWarning: Using the level keyword in DataFrame and Series aggregations is deprecated and will be removed in a future version. Use groupby instead. df.sum(level=1) should use df.groupby(level=1).sum().\n",
            "  categories_one_hot = pd.get_dummies(df['categories'].apply(pd.Series).stack()).sum(level=0)\n"
          ]
        },
        {
          "output_type": "stream",
          "name": "stdout",
          "text": [
            "             asin                                            related  price  \\\n",
            "0      B004A9SDD8  {'also_bought': ['B006M3K874', 'B00F85SMOI', '...    0.0   \n",
            "1      B004AFQAUA  {'also_bought': ['B005UDD1R6', 'B00LBH2UMM', '...    0.0   \n",
            "2      B004AGCR1K  {'also_viewed': ['B00A7W29BE', 'B00I5PB9UM', '...    0.0   \n",
            "3      B004AHBBPW  {'also_bought': ['B006T2U1V6', 'B00FBCIYZU', '...    0.0   \n",
            "4      B004ALFHV2  {'also_bought': ['B00CA6LZAG', 'B00FE5ZF4W', '...    0.0   \n",
            "...           ...                                                ...    ...   \n",
            "61270  B00LWU2FKU  {'also_bought': ['B00LJJWBSA', 'B00LUEJYE8', '...    0.0   \n",
            "61271  B00M0DLUIQ  {'also_bought': [], 'also_viewed': [], 'bought...    0.0   \n",
            "61272  B00LXGPGAY  {'also_viewed': ['B00LY6KB94', 'B00LWVE1WO', '...    0.0   \n",
            "61273  B00LY8XFOK  {'also_bought': ['B00LBH2UMM', 'B00KNWYDU8', '...    0.0   \n",
            "61274  B00M07JQQK  {'also_bought': ['B00KPM74NY', 'B00JTE929I', '...    0.0   \n",
            "\n",
            "       number_of_ratings  avg_rating  Alarms & Clocks  Artists  \\\n",
            "0                   61.0    3.868852                0        0   \n",
            "1                  231.0    4.004329                0        0   \n",
            "2                    3.0    1.000000                0        0   \n",
            "3                  377.0    4.713528                0        0   \n",
            "4                   12.0    4.583333                0        0   \n",
            "...                  ...         ...              ...      ...   \n",
            "61270                1.0    5.000000                0        0   \n",
            "61271                1.0    5.000000                0        0   \n",
            "61272                1.0    5.000000                0        0   \n",
            "61273                2.0    5.000000                0        0   \n",
            "61274                1.0    5.000000                0        0   \n",
            "\n",
            "       Battery Savers  Books & Comics  Books & Readers  ...  Ringtones  \\\n",
            "0                   0               0                0  ...          0   \n",
            "1                   0               0                0  ...          0   \n",
            "2                   0               0                0  ...          0   \n",
            "3                   0               0                0  ...          0   \n",
            "4                   0               0                0  ...          0   \n",
            "...               ...             ...              ...  ...        ...   \n",
            "61270               0               0                0  ...          0   \n",
            "61271               0               0                0  ...          0   \n",
            "61272               0               0                0  ...          0   \n",
            "61273               0               0                0  ...          0   \n",
            "61274               0               0                0  ...          0   \n",
            "\n",
            "       Shopping  Social Networking  Songbooks  Sports  Themes  Travel  \\\n",
            "0             0                  0          0       0       0       0   \n",
            "1             0                  0          0       0       0       0   \n",
            "2             0                  0          0       0       0       0   \n",
            "3             0                  0          0       0       0       0   \n",
            "4             0                  0          0       0       0       0   \n",
            "...         ...                ...        ...     ...     ...     ...   \n",
            "61270         0                  0          0       0       0       0   \n",
            "61271         0                  0          0       0       0       0   \n",
            "61272         0                  0          0       0       0       0   \n",
            "61273         0                  0          0       0       0       0   \n",
            "61274         0                  0          0       0       0       0   \n",
            "\n",
            "       Utilities  Weather  Web Browsers  \n",
            "0              0        0             0  \n",
            "1              0        0             0  \n",
            "2              0        0             0  \n",
            "3              0        0             0  \n",
            "4              0        0             0  \n",
            "...          ...      ...           ...  \n",
            "61270          0        0             0  \n",
            "61271          0        0             0  \n",
            "61272          0        0             0  \n",
            "61273          0        0             0  \n",
            "61274          0        0             0  \n",
            "\n",
            "[61275 rows x 52 columns]\n"
          ]
        }
      ]
    },
    {
      "cell_type": "code",
      "source": [
        "G = nx.Graph()\n",
        "\n",
        "G.add_nodes_from(df['asin'])"
      ],
      "metadata": {
        "id": "_crNNHgkm8Ca"
      },
      "execution_count": null,
      "outputs": []
    },
    {
      "cell_type": "code",
      "source": [
        "for i in range(df.shape[0]):\n",
        "    value = df.iloc[i]\n",
        "    also_bought = set(value[\"related\"].get(\"also_bought\", []))\n",
        "    bought_together = set(value[\"related\"].get(\"bought_together\", []))\n",
        "\n",
        "    valid_also_bought = also_bought.intersection(df['asin'].values)\n",
        "    valid_bought_together = bought_together.intersection(df['asin'].values)\n",
        "\n",
        "    G.add_edges_from((value['asin'], j) for j in valid_also_bought)\n",
        "    G.add_edges_from((value['asin'], j) for j in valid_bought_together)\n",
        "\n"
      ],
      "metadata": {
        "id": "o75RJGtRndu1"
      },
      "execution_count": null,
      "outputs": []
    },
    {
      "cell_type": "code",
      "source": [
        "# nx.write_g\n",
        "\n",
        "nx.write_gml(G, 'graph.gz')"
      ],
      "metadata": {
        "id": "_8EwzAeVH9Ki"
      },
      "execution_count": null,
      "outputs": []
    },
    {
      "cell_type": "code",
      "source": [
        "G = nx.read_gml(\"graph.gz\")"
      ],
      "metadata": {
        "id": "M_btgpvCLHop"
      },
      "execution_count": null,
      "outputs": []
    },
    {
      "cell_type": "code",
      "source": [
        "print(\"The edge size of graph G: \",len(G.edges))\n",
        "print(\"The node size of graph G: \",len(G.nodes))"
      ],
      "metadata": {
        "colab": {
          "base_uri": "https://localhost:8080/"
        },
        "id": "Ar8-5hmq8Gp2",
        "outputId": "3bfd2255-dcc7-48ce-a0fb-8a827f661db8"
      },
      "execution_count": null,
      "outputs": [
        {
          "output_type": "stream",
          "name": "stdout",
          "text": [
            "The edge size of graph G:  3282804\n",
            "The node size of graph G:  61275\n"
          ]
        }
      ]
    },
    {
      "cell_type": "code",
      "source": [
        "# nodes_to_remove = [node for node, degree in dict(G_purchase.degree()).items() if degree == 0]\n",
        "# G_purchase.remove_nodes_from(nodes_to_remove)\n"
      ],
      "metadata": {
        "id": "Iv2QZEFMXUJL"
      },
      "execution_count": null,
      "outputs": []
    },
    {
      "cell_type": "code",
      "source": [
        "# import matplotlib.pyplot as plt\n",
        "\n",
        "# nx.draw(G_purchase, with_labels=False, )\n"
      ],
      "metadata": {
        "id": "zEcuPON9Egxf"
      },
      "execution_count": null,
      "outputs": []
    }
  ]
}