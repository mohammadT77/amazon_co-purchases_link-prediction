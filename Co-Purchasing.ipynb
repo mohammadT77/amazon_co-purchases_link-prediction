{
  "cells": [
    {
      "cell_type": "code",
      "execution_count": null,
      "metadata": {
        "colab": {
          "base_uri": "https://localhost:8080/"
        },
        "id": "sUWGlSHee8cE",
        "outputId": "3ae86c01-b66c-4b2d-8088-d1dd25566c6f"
      },
      "outputs": [
        {
          "name": "stdout",
          "output_type": "stream",
          "text": [
            "Requirement already satisfied: networkx in /usr/local/lib/python3.10/dist-packages (3.2.1)\n",
            "Mounted at /content/drive\n"
          ]
        }
      ],
      "source": [
        "!pip install --upgrade networkx\n",
        "\n",
        "import json\n",
        "import numpy as np\n",
        "import pandas as pd\n",
        "import networkx as nx\n",
        "import os\n",
        "from google.colab import drive\n",
        "\n",
        "drive.mount('/content/drive', force_remount=True)"
      ]
    },
    {
      "cell_type": "code",
      "execution_count": null,
      "metadata": {
        "colab": {
          "base_uri": "https://localhost:8080/"
        },
        "id": "tfK41POqfI30",
        "outputId": "7b3e11f0-b463-473c-a71d-d5177303299b"
      },
      "outputs": [
        {
          "name": "stdout",
          "output_type": "stream",
          "text": [
            "clean_meta_Apps_for_Android.json  ratings_Apps_for_Android.csv\tUntitled1.ipynb\n",
            "graph.gz\t\t\t  Untitled0.ipynb\n"
          ]
        }
      ],
      "source": [
        "project_dir = \"learning from networks/\"\n",
        "os.chdir(os.path.join(\"/content/drive/MyDrive/\", project_dir))\n",
        "!ls"
      ]
    },
    {
      "cell_type": "code",
      "execution_count": null,
      "metadata": {
        "colab": {
          "base_uri": "https://localhost:8080/"
        },
        "id": "pZ3VEQu1fEja",
        "outputId": "9a0d6bda-e52e-486e-9b97-b765f201ec2b"
      },
      "outputs": [
        {
          "name": "stdout",
          "output_type": "stream",
          "text": [
            "asin                                                 B00M0DLUIQ\n",
            "categories                      [Apps for Android, Photography]\n",
            "related       {'also_bought': [], 'also_viewed': [], 'bought...\n",
            "price                                                       0.0\n",
            "salesRank                                                   NaN\n",
            "Name: 61547, dtype: object\n"
          ]
        }
      ],
      "source": [
        "meta_path = 'clean_meta_Apps_for_Android.json'\n",
        "\n",
        "try:\n",
        "    meta_df = pd.read_json(meta_path, lines=True)\n",
        "    meta_df = meta_df[[\"asin\", \"categories\", \"related\", \"price\", \"salesRank\"]]\n",
        "    meta_df['price'] = meta_df['price'].fillna(0)\n",
        "    # meta_df[\"related\"] = meta_df[\"related\"].fillna({'also_bought':[], 'also_viewed':[], 'bought_together':[]})\n",
        "\n",
        "    def fill_related(row):\n",
        "        return {'also_bought': [], 'also_viewed': [], 'bought_together': []} if pd.isna(row) else row\n",
        "\n",
        "    def fix_categories(row):\n",
        "        return row[0]\n",
        "\n",
        "\n",
        "    meta_df[\"related\"] = meta_df[\"related\"].apply(fill_related)\n",
        "    meta_df[\"categories\"] = meta_df[\"categories\"].apply(fix_categories)\n",
        "\n",
        "\n",
        "    print(meta_df.iloc[61547])\n",
        "except ValueError as e:\n",
        "    print(f\"Error reading JSON: {e}\")\n"
      ]
    },
    {
      "cell_type": "code",
      "execution_count": null,
      "metadata": {
        "colab": {
          "base_uri": "https://localhost:8080/"
        },
        "id": "bSw1v6-DExpy",
        "outputId": "be2e96c4-b850-417c-d18b-f4963aeac995"
      },
      "outputs": [
        {
          "name": "stdout",
          "output_type": "stream",
          "text": [
            "             asin  number_of_ratings  avg_rating\n",
            "0      B004A9SDD8               61.0    3.868852\n",
            "1      B004AFQAUA              231.0    4.004329\n",
            "2      B004AGCR1K                3.0    1.000000\n",
            "3      B004AHBBPW              377.0    4.713528\n",
            "4      B004ALFHV2               12.0    4.583333\n",
            "...           ...                ...         ...\n",
            "61270  B00LY9GOLU                1.0    5.000000\n",
            "61271  B00LY9HZ3G                1.0    5.000000\n",
            "61272  B00LZ9DVEM                1.0    5.000000\n",
            "61273  B00M07JQQK                1.0    5.000000\n",
            "61274  B00M0DLUIQ                1.0    5.000000\n",
            "\n",
            "[61275 rows x 3 columns]\n"
          ]
        }
      ],
      "source": [
        "# section associated to the rating fields: number_of_ratings, avg_rating\n",
        "def aggregate(group):\n",
        "    return pd.Series({\n",
        "        \"number_of_ratings\": len(group['Rate'].tolist()),\n",
        "        \"avg_rating\": np.average(group['Rate'])\n",
        "    })\n",
        "\n",
        "\n",
        "rating_path = './ratings_Apps_for_Android.csv'\n",
        "\n",
        "rating_df = pd.read_csv(rating_path, names=[\"User\", \"asin\", \"Rate\", \"Time\"])\n",
        "\n",
        "rating_df = rating_df.groupby(\"asin\").apply(aggregate).reset_index()\n",
        "\n",
        "print(rating_df)\n"
      ]
    },
    {
      "cell_type": "code",
      "execution_count": null,
      "metadata": {
        "colab": {
          "base_uri": "https://localhost:8080/"
        },
        "id": "BMFafdQkUY_X",
        "outputId": "199da706-8dff-489e-dca9-ea21f2abfa98"
      },
      "outputs": [
        {
          "name": "stderr",
          "output_type": "stream",
          "text": [
            "<ipython-input-13-d4286af7ee62>:7: FutureWarning: Using the level keyword in DataFrame and Series aggregations is deprecated and will be removed in a future version. Use groupby instead. df.sum(level=1) should use df.groupby(level=1).sum().\n",
            "  categories_one_hot = pd.get_dummies(df['categories'].apply(pd.Series).stack()).sum(level=0)\n"
          ]
        },
        {
          "name": "stdout",
          "output_type": "stream",
          "text": [
            "             asin                                            related  price  \\\n",
            "0      B004A9SDD8  {'also_bought': ['B006M3K874', 'B00F85SMOI', '...    0.0   \n",
            "1      B004AFQAUA  {'also_bought': ['B005UDD1R6', 'B00LBH2UMM', '...    0.0   \n",
            "2      B004AGCR1K  {'also_viewed': ['B00A7W29BE', 'B00I5PB9UM', '...    0.0   \n",
            "3      B004AHBBPW  {'also_bought': ['B006T2U1V6', 'B00FBCIYZU', '...    0.0   \n",
            "4      B004ALFHV2  {'also_bought': ['B00CA6LZAG', 'B00FE5ZF4W', '...    0.0   \n",
            "...           ...                                                ...    ...   \n",
            "61270  B00LWU2FKU  {'also_bought': ['B00LJJWBSA', 'B00LUEJYE8', '...    0.0   \n",
            "61271  B00M0DLUIQ  {'also_bought': [], 'also_viewed': [], 'bought...    0.0   \n",
            "61272  B00LXGPGAY  {'also_viewed': ['B00LY6KB94', 'B00LWVE1WO', '...    0.0   \n",
            "61273  B00LY8XFOK  {'also_bought': ['B00LBH2UMM', 'B00KNWYDU8', '...    0.0   \n",
            "61274  B00M07JQQK  {'also_bought': ['B00KPM74NY', 'B00JTE929I', '...    0.0   \n",
            "\n",
            "       number_of_ratings  avg_rating  Alarms & Clocks  Artists  \\\n",
            "0                   61.0    3.868852                0        0   \n",
            "1                  231.0    4.004329                0        0   \n",
            "2                    3.0    1.000000                0        0   \n",
            "3                  377.0    4.713528                0        0   \n",
            "4                   12.0    4.583333                0        0   \n",
            "...                  ...         ...              ...      ...   \n",
            "61270                1.0    5.000000                0        0   \n",
            "61271                1.0    5.000000                0        0   \n",
            "61272                1.0    5.000000                0        0   \n",
            "61273                2.0    5.000000                0        0   \n",
            "61274                1.0    5.000000                0        0   \n",
            "\n",
            "       Battery Savers  Books & Comics  Books & Readers  ...  Ringtones  \\\n",
            "0                   0               0                0  ...          0   \n",
            "1                   0               0                0  ...          0   \n",
            "2                   0               0                0  ...          0   \n",
            "3                   0               0                0  ...          0   \n",
            "4                   0               0                0  ...          0   \n",
            "...               ...             ...              ...  ...        ...   \n",
            "61270               0               0                0  ...          0   \n",
            "61271               0               0                0  ...          0   \n",
            "61272               0               0                0  ...          0   \n",
            "61273               0               0                0  ...          0   \n",
            "61274               0               0                0  ...          0   \n",
            "\n",
            "       Shopping  Social Networking  Songbooks  Sports  Themes  Travel  \\\n",
            "0             0                  0          0       0       0       0   \n",
            "1             0                  0          0       0       0       0   \n",
            "2             0                  0          0       0       0       0   \n",
            "3             0                  0          0       0       0       0   \n",
            "4             0                  0          0       0       0       0   \n",
            "...         ...                ...        ...     ...     ...     ...   \n",
            "61270         0                  0          0       0       0       0   \n",
            "61271         0                  0          0       0       0       0   \n",
            "61272         0                  0          0       0       0       0   \n",
            "61273         0                  0          0       0       0       0   \n",
            "61274         0                  0          0       0       0       0   \n",
            "\n",
            "       Utilities  Weather  Web Browsers  \n",
            "0              0        0             0  \n",
            "1              0        0             0  \n",
            "2              0        0             0  \n",
            "3              0        0             0  \n",
            "4              0        0             0  \n",
            "...          ...      ...           ...  \n",
            "61270          0        0             0  \n",
            "61271          0        0             0  \n",
            "61272          0        0             0  \n",
            "61273          0        0             0  \n",
            "61274          0        0             0  \n",
            "\n",
            "[61275 rows x 52 columns]\n"
          ]
        }
      ],
      "source": [
        "df = pd.merge(meta_df, rating_df, how='inner', on='asin')\n",
        "\n",
        "df = df.dropna(axis=1)\n",
        "\n",
        "\n",
        "# one hot encoding on the category field\n",
        "categories_one_hot = pd.get_dummies(df['categories'].apply(pd.Series).stack()).sum(level=0)\n",
        "df = pd.concat([df, categories_one_hot], axis=1)\n",
        "\n",
        "df = df.drop('categories', axis=1)\n",
        "df = df.drop('Apps for Android', axis=1)\n",
        "\n",
        "df['number_of_ratings'] = df['number_of_ratings'].fillna(0)\n",
        "df['avg_rating'] = df['avg_rating'].fillna(0)\n",
        "\n",
        "# Print the resulting DataFrame\n",
        "print(df)"
      ]
    },
    {
      "cell_type": "code",
      "execution_count": null,
      "metadata": {
        "id": "_crNNHgkm8Ca"
      },
      "outputs": [],
      "source": [
        "G = nx.Graph()\n",
        "\n",
        "G.add_nodes_from(df['asin'])"
      ]
    },
    {
      "cell_type": "code",
      "execution_count": null,
      "metadata": {
        "id": "o75RJGtRndu1"
      },
      "outputs": [],
      "source": [
        "for i in range(df.shape[0]):\n",
        "    value = df.iloc[i]\n",
        "    also_bought = set(value[\"related\"].get(\"also_bought\", []))\n",
        "    bought_together = set(value[\"related\"].get(\"bought_together\", []))\n",
        "\n",
        "    valid_also_bought = also_bought.intersection(df['asin'].values)\n",
        "    valid_bought_together = bought_together.intersection(df['asin'].values)\n",
        "\n",
        "    G.add_edges_from((value['asin'], j) for j in valid_also_bought)\n",
        "    G.add_edges_from((value['asin'], j) for j in valid_bought_together)\n",
        "\n"
      ]
    },
    {
      "cell_type": "code",
      "execution_count": null,
      "metadata": {
        "id": "_8EwzAeVH9Ki"
      },
      "outputs": [],
      "source": [
        "# nx.write_g\n",
        "\n",
        "nx.write_gml(G, 'graph.gz')"
      ]
    },
    {
      "cell_type": "code",
      "execution_count": null,
      "metadata": {
        "id": "M_btgpvCLHop"
      },
      "outputs": [],
      "source": [
        "G = nx.read_gml(\"graph.gz\")"
      ]
    },
    {
      "cell_type": "code",
      "execution_count": null,
      "metadata": {
        "colab": {
          "base_uri": "https://localhost:8080/"
        },
        "id": "Ar8-5hmq8Gp2",
        "outputId": "3bfd2255-dcc7-48ce-a0fb-8a827f661db8"
      },
      "outputs": [
        {
          "name": "stdout",
          "output_type": "stream",
          "text": [
            "The edge size of graph G:  3282804\n",
            "The node size of graph G:  61275\n"
          ]
        }
      ],
      "source": [
        "print(\"The edge size of graph G: \",len(G.edges))\n",
        "print(\"The node size of graph G: \",len(G.nodes))"
      ]
    },
    {
      "cell_type": "code",
      "execution_count": null,
      "metadata": {
        "id": "Iv2QZEFMXUJL"
      },
      "outputs": [],
      "source": [
        "# nodes_to_remove = [node for node, degree in dict(G_purchase.degree()).items() if degree == 0]\n",
        "# G_purchase.remove_nodes_from(nodes_to_remove)\n"
      ]
    },
    {
      "cell_type": "code",
      "execution_count": null,
      "metadata": {
        "id": "zEcuPON9Egxf"
      },
      "outputs": [],
      "source": [
        "# import matplotlib.pyplot as plt\n",
        "\n",
        "# nx.draw(G_purchase, with_labels=False, )\n"
      ]
    }
  ],
  "metadata": {
    "accelerator": "GPU",
    "colab": {
      "gpuType": "T4",
      "provenance": []
    },
    "kernelspec": {
      "display_name": "Python 3",
      "name": "python3"
    },
    "language_info": {
      "name": "python"
    }
  },
  "nbformat": 4,
  "nbformat_minor": 0
}
